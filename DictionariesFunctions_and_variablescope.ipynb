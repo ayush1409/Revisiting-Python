{
 "cells": [
  {
   "cell_type": "code",
   "execution_count": 1,
   "metadata": {},
   "outputs": [
    {
     "name": "stdout",
     "output_type": "stream",
     "text": [
      "not found\n"
     ]
    }
   ],
   "source": [
    "student = {'name':'mark', 'age':21, 'courses':['math','programming']}\n",
    "\n",
    "#keys can be any immutable datatype like int, float, tuple etc.\n",
    "\n",
    "# student['phone'] #will give a key error\n",
    "\n",
    "print(student.get('phone', 'not found'))"
   ]
  },
  {
   "cell_type": "markdown",
   "metadata": {},
   "source": [
    "List of associated functions using dir() function"
   ]
  },
  {
   "cell_type": "code",
   "execution_count": 2,
   "metadata": {},
   "outputs": [
    {
     "data": {
      "text/plain": [
       "['__class__',\n",
       " '__contains__',\n",
       " '__delattr__',\n",
       " '__delitem__',\n",
       " '__dir__',\n",
       " '__doc__',\n",
       " '__eq__',\n",
       " '__format__',\n",
       " '__ge__',\n",
       " '__getattribute__',\n",
       " '__getitem__',\n",
       " '__gt__',\n",
       " '__hash__',\n",
       " '__init__',\n",
       " '__iter__',\n",
       " '__le__',\n",
       " '__len__',\n",
       " '__lt__',\n",
       " '__ne__',\n",
       " '__new__',\n",
       " '__reduce__',\n",
       " '__reduce_ex__',\n",
       " '__repr__',\n",
       " '__setattr__',\n",
       " '__setitem__',\n",
       " '__sizeof__',\n",
       " '__str__',\n",
       " '__subclasshook__',\n",
       " 'clear',\n",
       " 'copy',\n",
       " 'fromkeys',\n",
       " 'get',\n",
       " 'items',\n",
       " 'keys',\n",
       " 'pop',\n",
       " 'popitem',\n",
       " 'setdefault',\n",
       " 'update',\n",
       " 'values']"
      ]
     },
     "execution_count": 2,
     "metadata": {},
     "output_type": "execute_result"
    }
   ],
   "source": [
    "dir(student)"
   ]
  },
  {
   "cell_type": "code",
   "execution_count": 4,
   "metadata": {},
   "outputs": [
    {
     "name": "stdout",
     "output_type": "stream",
     "text": [
      "name mark\n",
      "courses ['math', 'programming']\n",
      "age 21\n"
     ]
    }
   ],
   "source": [
    "for key, value in student.items():\n",
    "    print(key, value)"
   ]
  },
  {
   "cell_type": "code",
   "execution_count": 5,
   "metadata": {},
   "outputs": [
    {
     "name": "stdout",
     "output_type": "stream",
     "text": [
      "False\n",
      "140166332791368\n",
      "140166332792072\n"
     ]
    }
   ],
   "source": [
    "# difference between 'is' and '==' ?\n",
    "# 'is' checks for the object of same type whereas '==' checks for the value\n",
    "\n",
    "a = [1,2,3]\n",
    "b = [1,2,3]\n",
    "\n",
    "print(a is b)  # true for same objects ie, true if a is assigned to b then both have the same id\n",
    "print(id(a))\n",
    "print(id(b))"
   ]
  },
  {
   "cell_type": "code",
   "execution_count": 6,
   "metadata": {},
   "outputs": [
    {
     "name": "stdout",
     "output_type": "stream",
     "text": [
      "evaluated as false\n"
     ]
    }
   ],
   "source": [
    "# False values in python:\n",
    "# False\n",
    "# None\n",
    "# Zero of any numeric type\n",
    "# any empty sequence :for example, '' () []\n",
    "# any empty mapping : for exampe, {}\n",
    "\n",
    "condition = {}\n",
    "\n",
    "if condition:\n",
    "    print('evaluated as true')\n",
    "else:\n",
    "    print('evaluated as false')"
   ]
  },
  {
   "cell_type": "code",
   "execution_count": 8,
   "metadata": {},
   "outputs": [
    {
     "name": "stdout",
     "output_type": "stream",
     "text": [
      "hi, you\n"
     ]
    }
   ],
   "source": [
    "def hello_func(greeting, name='you'):\n",
    "    return '{}, {}'.format(greeting, name)\n",
    "\n",
    "print(hello_func('hi'))"
   ]
  },
  {
   "cell_type": "code",
   "execution_count": 10,
   "metadata": {},
   "outputs": [
    {
     "name": "stdout",
     "output_type": "stream",
     "text": [
      "('math', 'cs')\n",
      "{'age': 21, 'name': 'michael'}\n"
     ]
    }
   ],
   "source": [
    "def student_info(*args, **kwargs):\n",
    "    print(args)\n",
    "    print(kwargs)\n",
    "    \n",
    "student_info('math','cs', name='michael', age=21)"
   ]
  },
  {
   "cell_type": "code",
   "execution_count": 11,
   "metadata": {},
   "outputs": [
    {
     "name": "stdout",
     "output_type": "stream",
     "text": [
      "('math', 'cs', 'it')\n",
      "{'age': 21, 'name': 'ayush'}\n"
     ]
    }
   ],
   "source": [
    "cources = ['math', 'cs', 'it']\n",
    "info = {'name': 'ayush', 'age':21}\n",
    "\n",
    "student_info(*cources,**info)"
   ]
  },
  {
   "cell_type": "code",
   "execution_count": 15,
   "metadata": {},
   "outputs": [
    {
     "name": "stdout",
     "output_type": "stream",
     "text": [
      "29\n"
     ]
    }
   ],
   "source": [
    "days_in_month = [0, 31, 30, 31, 30, 31, 30, 31, 30, 31, 30, 31]\n",
    "\n",
    "def is_leap(year):\n",
    "    \"\"\"return true if year is a leap year\"\"\"\n",
    "    if year % 4 == 0 and (year % 100 != 0 or year % 400 == 0):\n",
    "        return True\n",
    "    else:\n",
    "        return False\n",
    "    \n",
    "def days_in_month_func(year, month):\n",
    "    \"\"\"returns the number of days in a given month of a year\"\"\"\n",
    "    \n",
    "    if not 1 <= month < 12 :\n",
    "        print(\"Wrong! month\")\n",
    "    \n",
    "    if month == 2 and is_leap(year):\n",
    "        return 29\n",
    "    \n",
    "    return days_in_month[month]\n",
    "    \n",
    "print(days_in_month_func(2016, 2))"
   ]
  },
  {
   "cell_type": "code",
   "execution_count": 26,
   "metadata": {},
   "outputs": [
    {
     "name": "stdout",
     "output_type": "stream",
     "text": [
      "local x\n",
      "global x\n"
     ]
    }
   ],
   "source": [
    "# Variable Scope\n",
    "'''\n",
    "    LEGB rule\n",
    "    Local, Enclosing, Global, Built-in\n",
    "'''\n",
    "x = 'global x'\n",
    "\n",
    "def test():\n",
    "    x = 'local x'\n",
    "    print(x)\n",
    "\n",
    "test()\n",
    "print(x)"
   ]
  },
  {
   "cell_type": "code",
   "execution_count": 20,
   "metadata": {},
   "outputs": [
    {
     "name": "stdout",
     "output_type": "stream",
     "text": [
      "local x\n",
      "local x\n"
     ]
    }
   ],
   "source": [
    "x = 'global x'\n",
    "\n",
    "def test():\n",
    "    \n",
    "    global x # uses the global scope 'x' and if does not exist initially this will create one\n",
    "    \n",
    "    x = 'local x' # overwritten\n",
    "    print(x)\n",
    "\n",
    "test()\n",
    "print(x)\n",
    "\n",
    "# use global x less often"
   ]
  },
  {
   "cell_type": "code",
   "execution_count": 21,
   "metadata": {},
   "outputs": [
    {
     "name": "stdout",
     "output_type": "stream",
     "text": [
      "local z\n"
     ]
    },
    {
     "ename": "NameError",
     "evalue": "name 'z' is not defined",
     "output_type": "error",
     "traceback": [
      "\u001b[0;31m---------------------------------------------------------------------------\u001b[0m",
      "\u001b[0;31mNameError\u001b[0m                                 Traceback (most recent call last)",
      "\u001b[0;32m<ipython-input-21-9252adf950ce>\u001b[0m in \u001b[0;36m<module>\u001b[0;34m()\u001b[0m\n\u001b[1;32m      4\u001b[0m \u001b[0;34m\u001b[0m\u001b[0m\n\u001b[1;32m      5\u001b[0m \u001b[0mtest\u001b[0m\u001b[0;34m(\u001b[0m\u001b[0;34m'local z'\u001b[0m\u001b[0;34m)\u001b[0m\u001b[0;34m\u001b[0m\u001b[0m\n\u001b[0;32m----> 6\u001b[0;31m \u001b[0mprint\u001b[0m\u001b[0;34m(\u001b[0m\u001b[0mz\u001b[0m\u001b[0;34m)\u001b[0m\u001b[0;34m\u001b[0m\u001b[0m\n\u001b[0m",
      "\u001b[0;31mNameError\u001b[0m: name 'z' is not defined"
     ]
    }
   ],
   "source": [
    "def test(z):\n",
    "    x = 'local x'\n",
    "    print(z)\n",
    "\n",
    "test('local z')\n",
    "print(z) # will give an error"
   ]
  },
  {
   "cell_type": "code",
   "execution_count": 22,
   "metadata": {},
   "outputs": [
    {
     "name": "stdout",
     "output_type": "stream",
     "text": [
      "['ArithmeticError', 'AssertionError', 'AttributeError', 'BaseException', 'BlockingIOError', 'BrokenPipeError', 'BufferError', 'BytesWarning', 'ChildProcessError', 'ConnectionAbortedError', 'ConnectionError', 'ConnectionRefusedError', 'ConnectionResetError', 'DeprecationWarning', 'EOFError', 'Ellipsis', 'EnvironmentError', 'Exception', 'False', 'FileExistsError', 'FileNotFoundError', 'FloatingPointError', 'FutureWarning', 'GeneratorExit', 'IOError', 'ImportError', 'ImportWarning', 'IndentationError', 'IndexError', 'InterruptedError', 'IsADirectoryError', 'KeyError', 'KeyboardInterrupt', 'LookupError', 'MemoryError', 'NameError', 'None', 'NotADirectoryError', 'NotImplemented', 'NotImplementedError', 'OSError', 'OverflowError', 'PendingDeprecationWarning', 'PermissionError', 'ProcessLookupError', 'RecursionError', 'ReferenceError', 'ResourceWarning', 'RuntimeError', 'RuntimeWarning', 'StopAsyncIteration', 'StopIteration', 'SyntaxError', 'SyntaxWarning', 'SystemError', 'SystemExit', 'TabError', 'TimeoutError', 'True', 'TypeError', 'UnboundLocalError', 'UnicodeDecodeError', 'UnicodeEncodeError', 'UnicodeError', 'UnicodeTranslateError', 'UnicodeWarning', 'UserWarning', 'ValueError', 'Warning', 'ZeroDivisionError', '__IPYTHON__', '__build_class__', '__debug__', '__doc__', '__import__', '__loader__', '__name__', '__package__', '__spec__', 'abs', 'all', 'any', 'ascii', 'bin', 'bool', 'bytearray', 'bytes', 'callable', 'chr', 'classmethod', 'compile', 'complex', 'copyright', 'credits', 'delattr', 'dict', 'dir', 'display', 'divmod', 'enumerate', 'eval', 'exec', 'filter', 'float', 'format', 'frozenset', 'get_ipython', 'getattr', 'globals', 'hasattr', 'hash', 'help', 'hex', 'id', 'input', 'int', 'isinstance', 'issubclass', 'iter', 'len', 'license', 'list', 'locals', 'map', 'max', 'memoryview', 'min', 'next', 'object', 'oct', 'open', 'ord', 'pow', 'print', 'property', 'range', 'repr', 'reversed', 'round', 'set', 'setattr', 'slice', 'sorted', 'staticmethod', 'str', 'sum', 'super', 'tuple', 'type', 'vars', 'zip']\n"
     ]
    }
   ],
   "source": [
    "import builtins\n",
    "\n",
    "print(dir(builtins))"
   ]
  },
  {
   "cell_type": "code",
   "execution_count": 25,
   "metadata": {},
   "outputs": [],
   "source": [
    "def min(): #function overwritten\n",
    "    pass\n",
    "\n",
    "#m = min([1,2,3,4,5,6]) # will produce an error\n",
    "\n",
    "#print(m)\n"
   ]
  },
  {
   "cell_type": "code",
   "execution_count": 29,
   "metadata": {},
   "outputs": [
    {
     "name": "stdout",
     "output_type": "stream",
     "text": [
      "outer x\n",
      "outer x\n",
      "global x\n"
     ]
    }
   ],
   "source": [
    "# enclosing scope\n",
    "\n",
    "x = 'global x'\n",
    "\n",
    "def outer():\n",
    "    x = 'outer x'\n",
    "    \n",
    "    def inner():\n",
    "        #x = 'local x' #outer x is in enclosing scope of x in print(x)\n",
    "        print(x)\n",
    "    inner()\n",
    "    print(x)\n",
    "outer()\n",
    "print(x)\n"
   ]
  },
  {
   "cell_type": "code",
   "execution_count": 30,
   "metadata": {},
   "outputs": [
    {
     "name": "stdout",
     "output_type": "stream",
     "text": [
      "local x\n",
      "local x\n",
      "global x\n"
     ]
    }
   ],
   "source": [
    "x = 'global x'\n",
    "\n",
    "def outer():\n",
    "    x = 'outer x'\n",
    "    \n",
    "    def inner():\n",
    "        nonlocal x\n",
    "        x = 'local x' \n",
    "        print(x)\n",
    "    inner()\n",
    "    print(x)\n",
    "outer()\n",
    "print(x)\n"
   ]
  },
  {
   "cell_type": "markdown",
   "metadata": {},
   "source": [
    "## Some Important Functions in Dictionaries\n",
    "    "
   ]
  },
  {
   "cell_type": "markdown",
   "metadata": {},
   "source": [
    "### 1. Get() function"
   ]
  },
  {
   "cell_type": "code",
   "execution_count": 7,
   "metadata": {},
   "outputs": [
    {
     "name": "stdout",
     "output_type": "stream",
     "text": [
      "i have 5 apples\n",
      "i have 0 eggs\n"
     ]
    }
   ],
   "source": [
    "picnicItems = {'apples': 5, 'cups': 2}\n",
    "\n",
    "print('i have {} apples'.format(picnicItems.get('apples',0)))\n",
    "\n",
    "print('i have {} eggs'.format(picnicItems.get('eggs',0)))\n"
   ]
  },
  {
   "cell_type": "markdown",
   "metadata": {},
   "source": [
    "### 2. setdefault() function:"
   ]
  },
  {
   "cell_type": "code",
   "execution_count": 9,
   "metadata": {},
   "outputs": [
    {
     "name": "stdout",
     "output_type": "stream",
     "text": [
      "6\n",
      "{'cups': 2, 'apples': 5, 'eggs': 6}\n"
     ]
    }
   ],
   "source": [
    "picnicItems.setdefault('eggs', 6)\n",
    "\n",
    "print(picnicItems['eggs'])\n",
    "\n",
    "print(picnicItems)"
   ]
  },
  {
   "cell_type": "markdown",
   "metadata": {},
   "source": [
    "#### Program to count occurances of letter in a given string"
   ]
  },
  {
   "cell_type": "code",
   "execution_count": 13,
   "metadata": {},
   "outputs": [
    {
     "name": "stdout",
     "output_type": "stream",
     "text": [
      "character : a    value : 4\n",
      "character : l    value : 3\n",
      "character : i    value : 6\n",
      "character : d    value : 3\n",
      "character : c    value : 3\n",
      "character : y    value : 1\n",
      "character : r    value : 5\n",
      "character : e    value : 5\n",
      "character : o    value : 2\n",
      "character : A    value : 1\n",
      "character : I    value : 1\n",
      "character : b    value : 1\n",
      "character : s    value : 3\n",
      "character :      value : 13\n",
      "character : n    value : 4\n",
      "character : t    value : 6\n",
      "character : h    value : 3\n",
      "character : p    value : 1\n",
      "character : ,    value : 1\n",
      "character : k    value : 2\n",
      "character : .    value : 1\n",
      "character : g    value : 2\n",
      "character : w    value : 2\n"
     ]
    }
   ],
   "source": [
    "message = 'It was a bright cold day in April, and the clocks were striking thirteen.'\n",
    "\n",
    "count = {}\n",
    "\n",
    "for character in message : \n",
    "    count.setdefault(character, 0)\n",
    "    count[character] = count[character] + 1\n",
    "    \n",
    "for key, value in count.items() :\n",
    "    print('character : {}    value : {}'.format(key, value))\n",
    "    "
   ]
  },
  {
   "cell_type": "markdown",
   "metadata": {},
   "source": [
    "** NOTE : ** this will able count letters for large size text files as well. And to display pretty by default use \n",
    "          ** pprint module** for pretty printing in case of dictionaries. "
   ]
  },
  {
   "cell_type": "markdown",
   "metadata": {},
   "source": [
    "### Program for Tic-Tac-Toe"
   ]
  },
  {
   "cell_type": "code",
   "execution_count": 17,
   "metadata": {},
   "outputs": [
    {
     "name": "stdout",
     "output_type": "stream",
     "text": [
      " | | \n",
      "-+-+-\n",
      " | | \n",
      "-+-+-\n",
      " | | \n",
      "Turn for  x . location of move()\n",
      "mid-L\n",
      " | | \n",
      "-+-+-\n",
      "x| | \n",
      "-+-+-\n",
      " | | \n",
      "Turn for  o . location of move()\n",
      "top-L\n",
      "o| | \n",
      "-+-+-\n",
      "x| | \n",
      "-+-+-\n",
      " | | \n",
      "Turn for  x . location of move()\n",
      "top-R\n",
      "o| |x\n",
      "-+-+-\n",
      "x| | \n",
      "-+-+-\n",
      " | | \n",
      "Turn for  o . location of move()\n",
      "low-R\n",
      "o| |x\n",
      "-+-+-\n",
      "x| | \n",
      "-+-+-\n",
      " | |o\n",
      "Turn for  x . location of move()\n",
      "mid-R\n",
      "o| |x\n",
      "-+-+-\n",
      "x| |x\n",
      "-+-+-\n",
      " | |o\n",
      "Turn for  o . location of move()\n",
      "mid-M\n",
      "o| |x\n",
      "-+-+-\n",
      "x|o|x\n",
      "-+-+-\n",
      " | |o\n",
      "Turn for  x . location of move()\n",
      "top-M\n",
      "o|x|x\n",
      "-+-+-\n",
      "x|o|x\n",
      "-+-+-\n",
      " | |o\n",
      "Turn for  o . location of move()\n",
      "low-M\n",
      "o|x|x\n",
      "-+-+-\n",
      "x|o|x\n",
      "-+-+-\n",
      " |o|o\n",
      "Turn for  x . location of move()\n",
      "low-L\n"
     ]
    }
   ],
   "source": [
    "theBoard = {'top-L': ' ', 'top-M': ' ', 'top-R': ' ',\n",
    "            'mid-L': ' ', 'mid-M': ' ', 'mid-R': ' ',\n",
    "            'low-L': ' ', 'low-M': ' ', 'low-R': ' '}\n",
    "\n",
    "def printBoard(board):\n",
    "    print(board['top-L'] + '|' + board['top-M'] + '|' + board['top-R'])\n",
    "    print('-+-+-')\n",
    "    print(board['mid-L'] + '|' + board['mid-M'] + '|' + board['mid-R'])\n",
    "    print('-+-+-')\n",
    "    print(board['low-L'] + '|' + board['low-M'] + '|' + board['low-R'])\n",
    "\n",
    "#printBoard(theBoard)\n",
    "\n",
    "turn = 'x'\n",
    "\n",
    "for i in range(9):\n",
    "    printBoard(theBoard)\n",
    "    \n",
    "    print('Turn for ', turn, '. location of move()')\n",
    "    move = input()\n",
    "    \n",
    "    theBoard[move] = turn\n",
    "    if turn == 'x':\n",
    "        turn = 'o'\n",
    "    else:\n",
    "        turn = 'x'"
   ]
  },
  {
   "cell_type": "markdown",
   "metadata": {},
   "source": [
    "### Practice Problem"
   ]
  },
  {
   "cell_type": "code",
   "execution_count": 7,
   "metadata": {},
   "outputs": [
    {
     "name": "stdout",
     "output_type": "stream",
     "text": [
      "enter number of players : 2\n",
      "Enter Name of player 0 :mark\n",
      "more inventory ? (yes:1, no:0)1\n",
      "inventory Name : rope\n",
      "inventory count : 15\n",
      "more inventory ? (yes:1, no:0)1\n",
      "inventory Name : arrow\n",
      "inventory count : 20\n",
      "more inventory ? (yes:1, no:0)1\n",
      "inventory Name : coins\n",
      "inventory count : 20\n",
      "more inventory ? (yes:1, no:0)0\n",
      "Enter Name of player 1 :chris\n",
      "more inventory ? (yes:1, no:0)1\n",
      "inventory Name : ropes\n",
      "inventory count : 12\n",
      "more inventory ? (yes:1, no:0)1\n",
      "inventory Name : arrow\n",
      "inventory count : 15\n",
      "more inventory ? (yes:1, no:0)1\n",
      "inventory Name : golden coins\n",
      "inventory count : 20\n",
      "more inventory ? (yes:1, no:0)0\n",
      "player : mark. Total inventory : 55\n",
      "player : chris. Total inventory : 47\n"
     ]
    }
   ],
   "source": [
    "players = {}\n",
    "\n",
    "n = int(input('enter number of players : '))\n",
    "\n",
    "for i in range(n):\n",
    "    player_name = input('Enter Name of player {} :'.format(i))\n",
    "    \n",
    "    inventory = {}\n",
    "    while True:\n",
    "        if not int(input('more inventory ? (yes:1, no:0)')):\n",
    "            break\n",
    "        \n",
    "        name = input('inventory Name : ')\n",
    "        count = int(input('inventory count : '))\n",
    "        inventory.setdefault(name,0)\n",
    "        inventory[name] = inventory[name] + count\n",
    "    \n",
    "    players.setdefault(player_name, inventory)\n",
    "\n",
    "def display_inventory(players):\n",
    "    \n",
    "    for key, value in players.items():\n",
    "        item_total = 0\n",
    "        \n",
    "        for val in value.values():\n",
    "            item_total = item_total + val\n",
    "        \n",
    "        print('player : '+key+'. Total inventory : '+str(item_total))\n",
    "        \n",
    "display_inventory(players)\n",
    "        "
   ]
  },
  {
   "cell_type": "code",
   "execution_count": null,
   "metadata": {},
   "outputs": [],
   "source": []
  }
 ],
 "metadata": {
  "kernelspec": {
   "display_name": "Python 3",
   "language": "python",
   "name": "python3"
  },
  "language_info": {
   "codemirror_mode": {
    "name": "ipython",
    "version": 3
   },
   "file_extension": ".py",
   "mimetype": "text/x-python",
   "name": "python",
   "nbconvert_exporter": "python",
   "pygments_lexer": "ipython3",
   "version": "3.5.2"
  }
 },
 "nbformat": 4,
 "nbformat_minor": 2
}
