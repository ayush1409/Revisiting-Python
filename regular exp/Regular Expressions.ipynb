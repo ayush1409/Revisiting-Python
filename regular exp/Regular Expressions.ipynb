{
 "cells": [
  {
   "cell_type": "code",
   "execution_count": 3,
   "metadata": {},
   "outputs": [],
   "source": [
    "import re"
   ]
  },
  {
   "cell_type": "markdown",
   "metadata": {},
   "source": [
    "### Cheat sheet\n",
    "    .       - Any Character Except New Line\n",
    "    \\d      - Digit (0-9)\n",
    "    \\D      - Not a Digit (0-9)\n",
    "    \\w      - Word Character (a-z, A-Z, 0-9, _)\n",
    "    \\W      - Not a Word Character\n",
    "    \\s      - Whitespace (space, tab, newline)\n",
    "    \\S      - Not Whitespace (space, tab, newline)\n",
    "   \n",
    "    \\b      - Word Boundary\n",
    "    \\B      - Not a Word Boundary\n",
    "    ^       - Beginning of a String\n",
    "    $       - End of a String \n",
    "\n",
    "    \n",
    "    []      - Matches Characters in brackets\n",
    "    [^ ]    - Matches Characters NOT in brackets\n",
    "    |       - Either Or\n",
    "    ( )     - Group\n",
    "\n",
    "Quantifiers:\n",
    "    *       - 0 or More\n",
    "    +       - 1 or More\n",
    "    ?       - 0 or One\n",
    "    {3}     - Exact Number\n",
    "    {3,4}   - Range of Numbers (Minimum, Maximum)\n",
    "    \n",
    "\n",
    "\n",
    "#### Sample Regexs ####\n",
    "\n",
    "[a-zA-Z0-9_.+-]+@[a-zA-Z0-9-]+\\.[a-zA-Z0-9-.]+"
   ]
  },
  {
   "cell_type": "code",
   "execution_count": 2,
   "metadata": {},
   "outputs": [],
   "source": [
    "\n",
    "text_to_search = '''\n",
    "abcdefghijklmnopqurtuvwxyz\n",
    "ABCDEFGHIJKLMNOPQRSTUVWXYZ\n",
    "1234567890\n",
    "\n",
    "Ha HaHa\n",
    "\n",
    "MetaCharacters (Need to be escaped):\n",
    ". ^ $ * + ? { } [ ] \\ | ( )\n",
    "\n",
    "coreyms.com\n",
    "\n",
    "321-555-4321\n",
    "123.555.1234\n",
    "123*555*1234\n",
    "800-555-1234\n",
    "900-555-1234\n",
    "\n",
    "Mr. Schafer\n",
    "Mr Smith\n",
    "Ms Davis\n",
    "Mrs. Robinson\n",
    "Mr. T\n",
    "'''\n",
    "\n",
    "sentence = 'Start a sentence and then bring it to an end'\n",
    "\n",
    "#pattern = re.compile(r'start', re.I)\n",
    "\n",
    "#matches = pattern.search(sentence)\n",
    "\n",
    "#print(matches)"
   ]
  },
  {
   "cell_type": "code",
   "execution_count": 8,
   "metadata": {},
   "outputs": [
    {
     "data": {
      "text/plain": [
       "['__class__',\n",
       " '__copy__',\n",
       " '__deepcopy__',\n",
       " '__delattr__',\n",
       " '__dir__',\n",
       " '__doc__',\n",
       " '__eq__',\n",
       " '__format__',\n",
       " '__ge__',\n",
       " '__getattribute__',\n",
       " '__gt__',\n",
       " '__hash__',\n",
       " '__init__',\n",
       " '__le__',\n",
       " '__lt__',\n",
       " '__ne__',\n",
       " '__new__',\n",
       " '__reduce__',\n",
       " '__reduce_ex__',\n",
       " '__repr__',\n",
       " '__setattr__',\n",
       " '__sizeof__',\n",
       " '__str__',\n",
       " '__subclasshook__',\n",
       " 'findall',\n",
       " 'finditer',\n",
       " 'flags',\n",
       " 'fullmatch',\n",
       " 'groupindex',\n",
       " 'groups',\n",
       " 'match',\n",
       " 'pattern',\n",
       " 'scanner',\n",
       " 'search',\n",
       " 'split',\n",
       " 'sub',\n",
       " 'subn']"
      ]
     },
     "execution_count": 8,
     "metadata": {},
     "output_type": "execute_result"
    }
   ],
   "source": [
    "pattern = re.compile(r'\\d')    \n",
    "\n",
    "dir(pattern)"
   ]
  },
  {
   "cell_type": "code",
   "execution_count": 21,
   "metadata": {},
   "outputs": [],
   "source": [
    "matches = pattern.finditer(text_to_search)\n",
    "\n",
    "for match in matches :\n",
    "#    print(match)\n",
    "    pass"
   ]
  },
  {
   "cell_type": "code",
   "execution_count": 12,
   "metadata": {},
   "outputs": [
    {
     "name": "stdout",
     "output_type": "stream",
     "text": [
      "<_sre.SRE_Match object; span=(155, 167), match='321-555-4321'>\n",
      "<_sre.SRE_Match object; span=(168, 180), match='123.555.1234'>\n",
      "<_sre.SRE_Match object; span=(194, 206), match='800-555-1234'>\n",
      "<_sre.SRE_Match object; span=(207, 219), match='900-555-1234'>\n"
     ]
    }
   ],
   "source": [
    "pattern = re.compile(r'\\d{3}[.-]\\d{3}[.-]\\d{4}')\n",
    "\n",
    "matches = pattern.finditer(text_to_search)\n",
    "\n",
    "for match in matches:\n",
    "    print(match)"
   ]
  },
  {
   "cell_type": "markdown",
   "metadata": {},
   "source": [
    "*Phone numbers from a given file.*"
   ]
  },
  {
   "cell_type": "code",
   "execution_count": 19,
   "metadata": {},
   "outputs": [],
   "source": [
    "with open('data.txt', 'r') as f:\n",
    "    contents = f.read()\n",
    "    \n",
    "    matches = pattern.finditer(contents)\n",
    "    \n",
    "    for match in matches:\n",
    "#        print(match)\n",
    "        pass"
   ]
  },
  {
   "cell_type": "code",
   "execution_count": 20,
   "metadata": {},
   "outputs": [],
   "source": [
    "pattern = re.compile(r'[^a-zA-Z]')  # neither lowerchase nor uppercase character\n",
    "\n",
    "matches = pattern.finditer(text_to_search)\n",
    "\n",
    "for match in matches:\n",
    "#    print(match)\n",
    "    pass"
   ]
  },
  {
   "cell_type": "code",
   "execution_count": 29,
   "metadata": {},
   "outputs": [],
   "source": [
    "pattern = re.compile(r'[1-5]')   # specified range of search\n",
    "\n",
    "matches = pattern.finditer(text_to_search)\n",
    "\n",
    "for mat in matches:\n",
    "    #print(mat)\n",
    "    pass"
   ]
  },
  {
   "cell_type": "code",
   "execution_count": 31,
   "metadata": {},
   "outputs": [
    {
     "name": "stdout",
     "output_type": "stream",
     "text": [
      "<_sre.SRE_Match object; span=(221, 232), match='Mr. Schafer'>\n",
      "<_sre.SRE_Match object; span=(233, 241), match='Mr Smith'>\n",
      "<_sre.SRE_Match object; span=(242, 250), match='Ms Davis'>\n",
      "<_sre.SRE_Match object; span=(251, 264), match='Mrs. Robinson'>\n",
      "<_sre.SRE_Match object; span=(265, 270), match='Mr. T'>\n"
     ]
    }
   ],
   "source": [
    "pattern = re.compile(r'M(r|s|rs)\\.?\\s[A-Z]+\\w*')       # getting all the names\n",
    "\n",
    "matches = pattern.finditer(text_to_search)\n",
    "\n",
    "for match in matches:\n",
    "    print(match)"
   ]
  },
  {
   "cell_type": "markdown",
   "metadata": {},
   "source": [
    "*Regular expression for emails*"
   ]
  },
  {
   "cell_type": "code",
   "execution_count": 35,
   "metadata": {},
   "outputs": [
    {
     "name": "stdout",
     "output_type": "stream",
     "text": [
      "<_sre.SRE_Match object; span=(0, 23), match='ChrisMSchafer@gmail.com'>\n",
      "<_sre.SRE_Match object; span=(36, 64), match='chris.schafer@university.edu'>\n",
      "<_sre.SRE_Match object; span=(77, 106), match='chris-321-schafer@my-work.net'>\n"
     ]
    }
   ],
   "source": [
    "emails = '''ChrisMSchafer@gmail.com\n",
    "            chris.schafer@university.edu\n",
    "            chris-321-schafer@my-work.net\n",
    "'''\n",
    "\n",
    "pattern = re.compile(r'[a-zA-Z0-9.-]+@[a-zA-Z-]+\\.(com|edu|net)')\n",
    "\n",
    "matches = pattern.finditer(emails)\n",
    "\n",
    "for match in matches :\n",
    "    print(match)\n"
   ]
  },
  {
   "cell_type": "markdown",
   "metadata": {},
   "source": [
    "*Fetching the name+domain from urls* "
   ]
  },
  {
   "cell_type": "code",
   "execution_count": 53,
   "metadata": {},
   "outputs": [
    {
     "name": "stdout",
     "output_type": "stream",
     "text": [
      "<_sre.SRE_Match object; span=(5, 27), match='https://www.google.com'>\n",
      "<_sre.SRE_Match object; span=(32, 48), match='http://chris.com'>\n",
      "<_sre.SRE_Match object; span=(53, 72), match='https://youtube.com'>\n",
      "<_sre.SRE_Match object; span=(77, 97), match='https://www.nasa.gov'>\n"
     ]
    }
   ],
   "source": [
    "urls = '''\n",
    "    https://www.google.com\n",
    "    http://chris.com\n",
    "    https://youtube.com\n",
    "    https://www.nasa.gov\n",
    "'''\n",
    "\n",
    "pattern = re.compile(r'https?://(www.)?(\\w+)(\\.\\w+)')   \n",
    "\n",
    "matches = pattern.finditer(urls)\n",
    "\n",
    "for match in matches:\n",
    "    print(match)"
   ]
  },
  {
   "cell_type": "markdown",
   "metadata": {},
   "source": [
    "*replacing the urls by names+domain*\n",
    "\n",
    "    group 0 : contains full urls\n",
    "    group 1 : contains optional www. field\n",
    "    group 2 : contains name of website\n",
    "    group 3 : contains domain name\n",
    "    \n",
    "    "
   ]
  },
  {
   "cell_type": "code",
   "execution_count": 42,
   "metadata": {},
   "outputs": [
    {
     "name": "stdout",
     "output_type": "stream",
     "text": [
      "\n",
      "    google.com\n",
      "    chris.com\n",
      "    youtube.com\n",
      "    nasa.gov\n",
      "\n"
     ]
    }
   ],
   "source": [
    "subbed_urls = pattern.sub(r'\\2\\3', urls)\n",
    "\n",
    "print(subbed_urls)"
   ]
  },
  {
   "cell_type": "markdown",
   "metadata": {},
   "source": [
    "**findall()** function : Returns only the matched content."
   ]
  },
  {
   "cell_type": "code",
   "execution_count": 46,
   "metadata": {},
   "outputs": [
    {
     "name": "stdout",
     "output_type": "stream",
     "text": [
      "google.com\n",
      "chris.com\n",
      "youtube.com\n",
      "nasa.gov\n"
     ]
    }
   ],
   "source": [
    "matches = pattern.findall(urls)\n",
    "\n",
    "# forms a tuple of groups for each match\n",
    "\n",
    "for match in matches :\n",
    "    print(match[1]+match[2])"
   ]
  },
  {
   "cell_type": "markdown",
   "metadata": {},
   "source": [
    "**Note :** also see the **match()** and **search()** function."
   ]
  },
  {
   "cell_type": "code",
   "execution_count": 48,
   "metadata": {},
   "outputs": [
    {
     "name": "stdout",
     "output_type": "stream",
     "text": [
      "<_sre.SRE_Match object; span=(0, 5), match='Start'>\n"
     ]
    }
   ],
   "source": [
    "sentence = 'Start a sentence and then bring it to an end'\n",
    "\n",
    "pattern = re.compile(r'start', re.IGNORECASE) # or we can say : re.I -> a flag for removing case sensitivity\n",
    "\n",
    "matches = pattern.search(sentence)\n",
    "\n",
    "print(matches)"
   ]
  },
  {
   "cell_type": "code",
   "execution_count": 57,
   "metadata": {},
   "outputs": [
    {
     "data": {
      "text/plain": [
       "<_sre.SRE_Match object; span=(21, 33), match='415-555-4242'>"
      ]
     },
     "execution_count": 57,
     "metadata": {},
     "output_type": "execute_result"
    }
   ],
   "source": [
    "phone_regex = re.compile(r'(\\d{3})[-.](\\d{3}[-.]\\d{4})')\n",
    "\n",
    "phone_no = phone_regex.search('my phone number is : 415-555-4242.')\n",
    "\n",
    "phone_no"
   ]
  },
  {
   "cell_type": "code",
   "execution_count": 58,
   "metadata": {},
   "outputs": [
    {
     "data": {
      "text/plain": [
       "'415-555-4242'"
      ]
     },
     "execution_count": 58,
     "metadata": {},
     "output_type": "execute_result"
    }
   ],
   "source": [
    "phone_no.group(0)"
   ]
  },
  {
   "cell_type": "code",
   "execution_count": 59,
   "metadata": {},
   "outputs": [
    {
     "data": {
      "text/plain": [
       "'415'"
      ]
     },
     "execution_count": 59,
     "metadata": {},
     "output_type": "execute_result"
    }
   ],
   "source": [
    "phone_no.group(1)"
   ]
  },
  {
   "cell_type": "code",
   "execution_count": 60,
   "metadata": {},
   "outputs": [
    {
     "data": {
      "text/plain": [
       "'555-4242'"
      ]
     },
     "execution_count": 60,
     "metadata": {},
     "output_type": "execute_result"
    }
   ],
   "source": [
    "phone_no.group(2)"
   ]
  },
  {
   "cell_type": "code",
   "execution_count": 61,
   "metadata": {},
   "outputs": [
    {
     "data": {
      "text/plain": [
       "('415', '555-4242')"
      ]
     },
     "execution_count": 61,
     "metadata": {},
     "output_type": "execute_result"
    }
   ],
   "source": [
    "phone_no.groups()"
   ]
  },
  {
   "cell_type": "code",
   "execution_count": 63,
   "metadata": {},
   "outputs": [
    {
     "name": "stdout",
     "output_type": "stream",
     "text": [
      "area_code : 415\n",
      "main_number : 555-4242\n"
     ]
    }
   ],
   "source": [
    "area_code, main_number = phone_no.groups()\n",
    "\n",
    "print('area_code : '+area_code)\n",
    "print('main_number : '+main_number)"
   ]
  },
  {
   "cell_type": "code",
   "execution_count": 66,
   "metadata": {},
   "outputs": [
    {
     "name": "stdout",
     "output_type": "stream",
     "text": [
      "<_sre.SRE_Match object; span=(8, 14), match='hahaha'>\n",
      "<_sre.SRE_Match object; span=(15, 23), match='hahahaha'>\n",
      "<_sre.SRE_Match object; span=(24, 34), match='hahahahaha'>\n",
      "<_sre.SRE_Match object; span=(35, 47), match='hahahahahaha'>\n",
      "<_sre.SRE_Match object; span=(50, 62), match='hahahahahaha'>\n",
      "<_sre.SRE_Match object; span=(62, 70), match='hahahaha'>\n"
     ]
    }
   ],
   "source": [
    "ha_string = 'ha haha hahaha hahahaha hahahahaha hahahahahahaha hahahahahahahahahaha'\n",
    "\n",
    "pattern = re.compile(r'(ha){3,6}')\n",
    "\n",
    "matches = pattern.finditer(ha_string)\n",
    "\n",
    "for match in matches :\n",
    "    print(match)\n"
   ]
  },
  {
   "cell_type": "code",
   "execution_count": 68,
   "metadata": {},
   "outputs": [
    {
     "name": "stdout",
     "output_type": "stream",
     "text": [
      "['R', 'b', 'c', 'p', 't', 's', 'b', 'b', 'y', 'f', 'd', '.', 'B', 'A', 'B', 'Y', 'F', 'O', 'O', 'D', '.']\n"
     ]
    }
   ],
   "source": [
    "consonent_regex = re.compile(r'[^aeiou ]')\n",
    "\n",
    "matches = consonent_regex.findall('Robocop eats baby food. BABY FOOD.')\n",
    "\n",
    "print(matches)"
   ]
  },
  {
   "cell_type": "markdown",
   "metadata": {},
   "source": [
    "\n",
    "      You can also use the caret symbol (^) at the start of a regex to indicate that a match must occur at the beginning of the searched text. Likewise, you can put a dollar sign ($) at the end of the regex to indicate the string must end with this regex pattern. And you can use the ^ and $ together to indicate that the entire string must match the regex—that is, it’s not enough for a match to be made on some subset of the string.\n"
   ]
  },
  {
   "cell_type": "markdown",
   "metadata": {},
   "source": [
    "### Review of Regex\n",
    "    \n",
    "    The ? matches zero or one of the preceding group.\n",
    "\n",
    "    The * matches zero or more of the preceding group.\n",
    "\n",
    "    The + matches one or more of the preceding group.\n",
    "\n",
    "    The {n} matches exactly n of the preceding group.\n",
    "\n",
    "    The {n,} matches n or more of the preceding group.\n",
    "\n",
    "    The {,m} matches 0 to m of the preceding group.\n",
    "\n",
    "    The {n,m} matches at least n and at most m of the preceding group.\n",
    "\n",
    "    {n,m}? or *? or +? performs a nongreedy match of the preceding group.\n",
    "\n",
    "    ^spam means the string must begin with spam.\n",
    "\n",
    "    spam$ means the string must end with spam.\n",
    "\n",
    "    The . matches any character, except newline characters.\n",
    "\n",
    "    \\d, \\w, and \\s match a digit, word, or space character, respectively.\n",
    "\n",
    "    \\D, \\W, and \\S match anything except a digit, word, or space character, respectively.\n",
    "\n",
    "    [abc] matches any character between the brackets (such as a, b, or c).\n",
    "\n",
    "    [^abc] matches any character that isn’t between the brackets."
   ]
  },
  {
   "cell_type": "code",
   "execution_count": 72,
   "metadata": {},
   "outputs": [
    {
     "data": {
      "text/plain": [
       "'A*** told C*** that E*** knew B*** was a double agent.'"
      ]
     },
     "execution_count": 72,
     "metadata": {},
     "output_type": "execute_result"
    }
   ],
   "source": [
    "# replacing the text by group text\n",
    "\n",
    "agentNamesRegex = re.compile(r'Agent (\\w)\\w*')\n",
    "\n",
    "agentNamesRegex.sub(r'\\1***', 'Agent Alice told Agent Carol that Agent Eve knew Agent Bob was a double agent.')"
   ]
  },
  {
   "cell_type": "markdown",
   "metadata": {},
   "source": [
    "*we can manage difficult regular expression into simpler form using*  **re.VERBOSE**"
   ]
  },
  {
   "cell_type": "code",
   "execution_count": 73,
   "metadata": {},
   "outputs": [],
   "source": [
    "phoneRegex = re.compile(r'((\\d{3}|\\(\\d{3}\\))?(\\s|-|\\.)?\\d{3}(\\s|-|\\.)\\d{4}(\\s*(ext|x|ext.)\\s*\\d{2,5})?)')\n",
    "\n",
    "phoneRegex = re.compile(r'''(\n",
    "    (\\d{3}|\\(\\d{3}\\))?            # area code\n",
    "    (\\s|-|\\.)?                    # separator\n",
    "    \\d{3}                         # first 3 digits\n",
    "    (\\s|-|\\.)                     # separator\n",
    "    \\d{4}                         # last 4 digits\n",
    "    (\\s*(ext|x|ext.)\\s*\\d{2,5})?  # extension\n",
    "    )''', re.VERBOSE)\n",
    "\n"
   ]
  }
 ],
 "metadata": {
  "kernelspec": {
   "display_name": "Python 3",
   "language": "python",
   "name": "python3"
  },
  "language_info": {
   "codemirror_mode": {
    "name": "ipython",
    "version": 3
   },
   "file_extension": ".py",
   "mimetype": "text/x-python",
   "name": "python",
   "nbconvert_exporter": "python",
   "pygments_lexer": "ipython3",
   "version": "3.5.2"
  }
 },
 "nbformat": 4,
 "nbformat_minor": 2
}
