{
 "cells": [
  {
   "cell_type": "code",
   "execution_count": 1,
   "metadata": {},
   "outputs": [
    {
     "name": "stdout",
     "output_type": "stream",
     "text": [
      "2\n"
     ]
    }
   ],
   "source": [
    "# basic arithematic operations in python\n",
    "\n",
    "#  3 {} 2, {+,-,*,/,%}\n",
    "# Floor division 3 // 2 gives 1\n",
    "# exponent 3 ** 2 gives 9\n",
    "\n",
    "num = 1\n",
    "# num++ not applicable\n",
    "\n",
    "num += 1\n",
    "print(num)"
   ]
  },
  {
   "cell_type": "code",
   "execution_count": 6,
   "metadata": {},
   "outputs": [
    {
     "name": "stdout",
     "output_type": "stream",
     "text": [
      "4\n",
      "3.8\n",
      "3.76\n"
     ]
    }
   ],
   "source": [
    "print(round(3.757))\n",
    "print(round(3.757, 1))\n",
    "print(round(3.757, 2))"
   ]
  },
  {
   "cell_type": "code",
   "execution_count": 7,
   "metadata": {},
   "outputs": [
    {
     "name": "stdout",
     "output_type": "stream",
     "text": [
      "300\n"
     ]
    }
   ],
   "source": [
    "num1 = '100'\n",
    "num2 = '200'\n",
    "\n",
    "num1 = int(num1)\n",
    "num2 = int(num2)\n",
    "\n",
    "print(num1 + num2)"
   ]
  },
  {
   "cell_type": "code",
   "execution_count": 8,
   "metadata": {},
   "outputs": [
    {
     "name": "stdout",
     "output_type": "stream",
     "text": [
      "['__add__', '__class__', '__contains__', '__delattr__', '__delitem__', '__dir__', '__doc__', '__eq__', '__format__', '__ge__', '__getattribute__', '__getitem__', '__gt__', '__hash__', '__iadd__', '__imul__', '__init__', '__iter__', '__le__', '__len__', '__lt__', '__mul__', '__ne__', '__new__', '__reduce__', '__reduce_ex__', '__repr__', '__reversed__', '__rmul__', '__setattr__', '__setitem__', '__sizeof__', '__str__', '__subclasshook__', 'append', 'clear', 'copy', 'count', 'extend', 'index', 'insert', 'pop', 'remove', 'reverse', 'sort']\n"
     ]
    }
   ],
   "source": [
    "# working with Lists \n",
    "#list are mutable\n",
    "print(dir(list))"
   ]
  },
  {
   "cell_type": "code",
   "execution_count": 21,
   "metadata": {},
   "outputs": [
    {
     "name": "stdout",
     "output_type": "stream",
     "text": [
      "['cs', 'it', 'me', 'ec', 'ce']\n",
      "['ee', 'cs', 'it', 'me', 'ec', 'ce']\n"
     ]
    }
   ],
   "source": [
    "my_courses = ['cs', 'it', 'me', 'ec']\n",
    "\n",
    "my_courses.append('ce')\n",
    "print(my_courses)\n",
    "\n",
    "my_courses.insert(0, 'ee')\n",
    "print(my_courses)"
   ]
  },
  {
   "cell_type": "code",
   "execution_count": 23,
   "metadata": {},
   "outputs": [
    {
     "name": "stdout",
     "output_type": "stream",
     "text": [
      "['ee', 'cs', 'it', 'me', 'ec', 'ce', 'eng', 'hindi']\n"
     ]
    }
   ],
   "source": [
    "course2 = ['eng', 'hindi']\n",
    "\n",
    "#my_courses.append(course2)\n",
    "#my_courses.insert(0, course2)\n",
    "\n",
    "my_courses.extend(course2)\n",
    "print(my_courses)"
   ]
  },
  {
   "cell_type": "code",
   "execution_count": 26,
   "metadata": {},
   "outputs": [
    {
     "name": "stdout",
     "output_type": "stream",
     "text": [
      "[1, 2, 3, 5, 6]\n",
      "[1, 3, 2, 6, 5]\n",
      "[6, 5, 3, 2, 1]\n"
     ]
    }
   ],
   "source": [
    "# sorted() returns the sorted form of list ie, not inplace\n",
    "# list.sort() return the list in inplace sorted form\n",
    "\n",
    "nums = [1,3,2,6,5]\n",
    "print(sorted(nums))\n",
    "print(nums)\n",
    "\n",
    "nums.sort(reverse=True)\n",
    "print(nums)"
   ]
  },
  {
   "cell_type": "code",
   "execution_count": 27,
   "metadata": {},
   "outputs": [
    {
     "name": "stdout",
     "output_type": "stream",
     "text": [
      "1\n"
     ]
    }
   ],
   "source": [
    "# poping element\n",
    "\n",
    "popped = nums.pop()\n",
    "print(popped)\n",
    "\n",
    "# also see for max(), min(), sum()"
   ]
  },
  {
   "cell_type": "code",
   "execution_count": 28,
   "metadata": {},
   "outputs": [
    {
     "name": "stdout",
     "output_type": "stream",
     "text": [
      "0 ee\n",
      "1 cs\n",
      "2 it\n",
      "3 me\n",
      "4 ec\n",
      "5 ce\n",
      "6 eng\n",
      "7 hindi\n"
     ]
    }
   ],
   "source": [
    "for index, item in enumerate(my_courses):\n",
    "    print(index, item)"
   ]
  },
  {
   "cell_type": "code",
   "execution_count": 29,
   "metadata": {},
   "outputs": [
    {
     "name": "stdout",
     "output_type": "stream",
     "text": [
      "0 age\n",
      "1 name\n"
     ]
    }
   ],
   "source": [
    "person = {'name':'ayush', 'age':21}\n",
    "\n",
    "for index,item in enumerate(person):\n",
    "    print(index, item)"
   ]
  },
  {
   "cell_type": "code",
   "execution_count": 35,
   "metadata": {},
   "outputs": [
    {
     "name": "stdout",
     "output_type": "stream",
     "text": [
      "['cs', 'it', 'me', 'ec']\n",
      "cs-it-me-ec\n",
      "['cs', 'it', 'me', 'ec']\n"
     ]
    }
   ],
   "source": [
    "my_courses = ['cs', 'it', 'me', 'ec']\n",
    "\n",
    "\n",
    "course_str = '-'.join(my_courses)\n",
    "\n",
    "#my_courses = '='.join(course_str.split('-'))\n",
    "\n",
    "print(my_courses)\n",
    "\n",
    "print(course_str)\n",
    "\n",
    "my_courses = course_str.split('-')\n",
    "\n",
    "print(my_courses)"
   ]
  },
  {
   "cell_type": "code",
   "execution_count": 36,
   "metadata": {},
   "outputs": [
    {
     "name": "stdout",
     "output_type": "stream",
     "text": [
      "('cs', 'it', 'me', 'ec')\n",
      "{'me', 'cs', 'ec', 'it'}\n"
     ]
    }
   ],
   "source": [
    "# tuples are immutable\n",
    "\n",
    "my_course_tuple = ('cs', 'it', 'me', 'ec')\n",
    "print(my_course_tuple)\n",
    "\n",
    "# set don't allow duplicate values\n",
    "\n",
    "my_course_set = {'cs', 'it', 'me', 'ec','cs'}\n",
    "print(my_course_set)"
   ]
  },
  {
   "cell_type": "code",
   "execution_count": 37,
   "metadata": {},
   "outputs": [
    {
     "data": {
      "text/plain": [
       "['__add__',\n",
       " '__class__',\n",
       " '__contains__',\n",
       " '__delattr__',\n",
       " '__dir__',\n",
       " '__doc__',\n",
       " '__eq__',\n",
       " '__format__',\n",
       " '__ge__',\n",
       " '__getattribute__',\n",
       " '__getitem__',\n",
       " '__getnewargs__',\n",
       " '__gt__',\n",
       " '__hash__',\n",
       " '__init__',\n",
       " '__iter__',\n",
       " '__le__',\n",
       " '__len__',\n",
       " '__lt__',\n",
       " '__mul__',\n",
       " '__ne__',\n",
       " '__new__',\n",
       " '__reduce__',\n",
       " '__reduce_ex__',\n",
       " '__repr__',\n",
       " '__rmul__',\n",
       " '__setattr__',\n",
       " '__sizeof__',\n",
       " '__str__',\n",
       " '__subclasshook__',\n",
       " 'count',\n",
       " 'index']"
      ]
     },
     "execution_count": 37,
     "metadata": {},
     "output_type": "execute_result"
    }
   ],
   "source": [
    "dir(my_course_tuple)"
   ]
  },
  {
   "cell_type": "code",
   "execution_count": 38,
   "metadata": {},
   "outputs": [
    {
     "data": {
      "text/plain": [
       "['__and__',\n",
       " '__class__',\n",
       " '__contains__',\n",
       " '__delattr__',\n",
       " '__dir__',\n",
       " '__doc__',\n",
       " '__eq__',\n",
       " '__format__',\n",
       " '__ge__',\n",
       " '__getattribute__',\n",
       " '__gt__',\n",
       " '__hash__',\n",
       " '__iand__',\n",
       " '__init__',\n",
       " '__ior__',\n",
       " '__isub__',\n",
       " '__iter__',\n",
       " '__ixor__',\n",
       " '__le__',\n",
       " '__len__',\n",
       " '__lt__',\n",
       " '__ne__',\n",
       " '__new__',\n",
       " '__or__',\n",
       " '__rand__',\n",
       " '__reduce__',\n",
       " '__reduce_ex__',\n",
       " '__repr__',\n",
       " '__ror__',\n",
       " '__rsub__',\n",
       " '__rxor__',\n",
       " '__setattr__',\n",
       " '__sizeof__',\n",
       " '__str__',\n",
       " '__sub__',\n",
       " '__subclasshook__',\n",
       " '__xor__',\n",
       " 'add',\n",
       " 'clear',\n",
       " 'copy',\n",
       " 'difference',\n",
       " 'difference_update',\n",
       " 'discard',\n",
       " 'intersection',\n",
       " 'intersection_update',\n",
       " 'isdisjoint',\n",
       " 'issubset',\n",
       " 'issuperset',\n",
       " 'pop',\n",
       " 'remove',\n",
       " 'symmetric_difference',\n",
       " 'symmetric_difference_update',\n",
       " 'union',\n",
       " 'update']"
      ]
     },
     "execution_count": 38,
     "metadata": {},
     "output_type": "execute_result"
    }
   ],
   "source": [
    "dir(my_course_set)"
   ]
  },
  {
   "cell_type": "code",
   "execution_count": 39,
   "metadata": {},
   "outputs": [
    {
     "name": "stdout",
     "output_type": "stream",
     "text": [
      "True\n"
     ]
    }
   ],
   "source": [
    "print('cs' in my_course_set) # fastest operation among three "
   ]
  },
  {
   "cell_type": "code",
   "execution_count": 40,
   "metadata": {},
   "outputs": [
    {
     "name": "stdout",
     "output_type": "stream",
     "text": [
      "Help on method_descriptor:\n",
      "\n",
      "intersection(...)\n",
      "    Return the intersection of two sets as a new set.\n",
      "    \n",
      "    (i.e. all elements that are in both sets.)\n",
      "\n"
     ]
    }
   ],
   "source": [
    "help(set.intersection)"
   ]
  },
  {
   "cell_type": "code",
   "execution_count": 41,
   "metadata": {},
   "outputs": [],
   "source": [
    "empty_list = []\n",
    "empty_list = list()\n",
    "\n",
    "empty_tuple = ()\n",
    "empty_tuple = tuple()\n",
    "\n",
    "# empty_set = {}  # wrong! as it is a empty dictionary\n",
    "empty_set = set()"
   ]
  },
  {
   "cell_type": "code",
   "execution_count": null,
   "metadata": {},
   "outputs": [],
   "source": []
  }
 ],
 "metadata": {
  "kernelspec": {
   "display_name": "Python 3",
   "language": "python",
   "name": "python3"
  },
  "language_info": {
   "codemirror_mode": {
    "name": "ipython",
    "version": 3
   },
   "file_extension": ".py",
   "mimetype": "text/x-python",
   "name": "python",
   "nbconvert_exporter": "python",
   "pygments_lexer": "ipython3",
   "version": "3.5.2"
  }
 },
 "nbformat": 4,
 "nbformat_minor": 2
}
