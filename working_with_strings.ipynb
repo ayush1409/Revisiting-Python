{
 "cells": [
  {
   "cell_type": "code",
   "execution_count": 4,
   "metadata": {},
   "outputs": [
    {
     "name": "stdout",
     "output_type": "stream",
     "text": [
      "hello world\n",
      "hello universe\n"
     ]
    }
   ],
   "source": [
    "# review methods linke len(), count, find(), replace()\n",
    "\n",
    "message = \"hello world\"\n",
    "\n",
    "message.replace(\"world\",\"universe\") #not inplace replace\n",
    "\n",
    "print(message)\n",
    "\n",
    "message = message.replace(\"world\",\"universe\")#inplace replace\n",
    "\n",
    "print(message)"
   ]
  },
  {
   "cell_type": "code",
   "execution_count": 5,
   "metadata": {},
   "outputs": [
    {
     "name": "stdout",
     "output_type": "stream",
     "text": [
      "hello michael. Welcome!\n",
      "hello michael. welcome!\n"
     ]
    }
   ],
   "source": [
    "greeting = \"hello\"\n",
    "name = \"michael\"\n",
    "\n",
    "message = greeting + ' ' + name + \". Welcome!\"\n",
    "\n",
    "new_message = '{} {}. welcome!'.format(greeting, name) #more easy\n",
    "\n",
    "print(message)\n",
    "print(new_message)"
   ]
  },
  {
   "cell_type": "code",
   "execution_count": 7,
   "metadata": {},
   "outputs": [],
   "source": [
    "# concept of f-strings (only for python 3.6 or higher)\n",
    "\n",
    "# new_message = f'{greeting} {name.upper()}, welcome!'\n",
    "\n"
   ]
  },
  {
   "cell_type": "code",
   "execution_count": 8,
   "metadata": {},
   "outputs": [
    {
     "name": "stdout",
     "output_type": "stream",
     "text": [
      "['__add__', '__class__', '__contains__', '__delattr__', '__dir__', '__doc__', '__eq__', '__format__', '__ge__', '__getattribute__', '__getitem__', '__getnewargs__', '__gt__', '__hash__', '__init__', '__iter__', '__le__', '__len__', '__lt__', '__mod__', '__mul__', '__ne__', '__new__', '__reduce__', '__reduce_ex__', '__repr__', '__rmod__', '__rmul__', '__setattr__', '__sizeof__', '__str__', '__subclasshook__', 'capitalize', 'casefold', 'center', 'count', 'encode', 'endswith', 'expandtabs', 'find', 'format', 'format_map', 'index', 'isalnum', 'isalpha', 'isdecimal', 'isdigit', 'isidentifier', 'islower', 'isnumeric', 'isprintable', 'isspace', 'istitle', 'isupper', 'join', 'ljust', 'lower', 'lstrip', 'maketrans', 'partition', 'replace', 'rfind', 'rindex', 'rjust', 'rpartition', 'rsplit', 'rstrip', 'split', 'splitlines', 'startswith', 'strip', 'swapcase', 'title', 'translate', 'upper', 'zfill']\n"
     ]
    }
   ],
   "source": [
    "# to find the list of methods associated to a variable\n",
    "\n",
    "print(dir(name))"
   ]
  },
  {
   "cell_type": "code",
   "execution_count": 12,
   "metadata": {},
   "outputs": [
    {
     "name": "stdout",
     "output_type": "stream",
     "text": [
      "Help on method_descriptor:\n",
      "\n",
      "lower(...)\n",
      "    S.lower() -> str\n",
      "    \n",
      "    Return a copy of the string S converted to lowercase.\n",
      "\n"
     ]
    }
   ],
   "source": [
    "help(str.lower)"
   ]
  },
  {
   "cell_type": "code",
   "execution_count": 13,
   "metadata": {},
   "outputs": [
    {
     "name": "stdout",
     "output_type": "stream",
     "text": [
      "Help on method_descriptor:\n",
      "\n",
      "replace(...)\n",
      "    S.replace(old, new[, count]) -> str\n",
      "    \n",
      "    Return a copy of S with all occurrences of substring\n",
      "    old replaced by new.  If the optional argument count is\n",
      "    given, only the first count occurrences are replaced.\n",
      "\n"
     ]
    }
   ],
   "source": [
    "help(str.replace)"
   ]
  },
  {
   "cell_type": "code",
   "execution_count": 14,
   "metadata": {},
   "outputs": [
    {
     "name": "stdout",
     "output_type": "stream",
     "text": [
      "10\n"
     ]
    }
   ],
   "source": [
    "my_list = [0,1,2,3,4,5,6,7,8,9]\n",
    "\n",
    "print(len(my_list))"
   ]
  },
  {
   "cell_type": "code",
   "execution_count": 17,
   "metadata": {},
   "outputs": [
    {
     "name": "stdout",
     "output_type": "stream",
     "text": [
      "[9, 8, 7, 6, 5, 4, 3]\n",
      "[9, 8, 7, 6, 5, 4, 3, 2, 1, 0]\n"
     ]
    }
   ],
   "source": [
    "# my_list[start : end : step]\n",
    "\n",
    "print(my_list[-1:2:-1])\n",
    "\n",
    "print(my_list[-1::-1])"
   ]
  },
  {
   "cell_type": "code",
   "execution_count": 19,
   "metadata": {},
   "outputs": [
    {
     "name": "stdout",
     "output_type": "stream",
     "text": [
      "moc.elpmaxe//:ptth\n",
      "example\n"
     ]
    }
   ],
   "source": [
    "sample_url = 'http://example.com'\n",
    "\n",
    "print(sample_url[::-1])\n",
    "print(sample_url[7:-4])"
   ]
  },
  {
   "cell_type": "code",
   "execution_count": 23,
   "metadata": {},
   "outputs": [
    {
     "name": "stdout",
     "output_type": "stream",
     "text": [
      "<h1>this is a headline</h1>\n"
     ]
    }
   ],
   "source": [
    "# string formatting\n",
    "\n",
    "tag = 'h1'\n",
    "text = 'this is a headline'\n",
    "\n",
    "print('<{0}>{1}</{0}>'.format(tag,text))"
   ]
  },
  {
   "cell_type": "code",
   "execution_count": 25,
   "metadata": {},
   "outputs": [
    {
     "name": "stdout",
     "output_type": "stream",
     "text": [
      "hello ayush your age is 21\n",
      "hello ayush your age is 21\n"
     ]
    }
   ],
   "source": [
    "# from dictionaries and lists\n",
    "\n",
    "my_dict = {'name':'ayush', 'age':21}\n",
    "\n",
    "print('hello {0[name]} your age is {0[age]}'.format(my_dict))\n",
    "\n",
    "my_list = ['ayush', 21]\n",
    "\n",
    "print('hello {0[0]} your age is {0[1]}'.format(my_list))"
   ]
  },
  {
   "cell_type": "code",
   "execution_count": 26,
   "metadata": {},
   "outputs": [
    {
     "name": "stdout",
     "output_type": "stream",
     "text": [
      "hello ayush your age is 21\n"
     ]
    }
   ],
   "source": [
    "print('hello {name} your age is {age}'.format(name='ayush', age=21))"
   ]
  },
  {
   "cell_type": "code",
   "execution_count": 27,
   "metadata": {},
   "outputs": [
    {
     "name": "stdout",
     "output_type": "stream",
     "text": [
      "hello ayush your age is 21\n"
     ]
    }
   ],
   "source": [
    "#using unpacking of strings\n",
    "\n",
    "print('hello {name} your age is {age}'.format(**my_dict))"
   ]
  },
  {
   "cell_type": "code",
   "execution_count": 30,
   "metadata": {},
   "outputs": [
    {
     "name": "stdout",
     "output_type": "stream",
     "text": [
      "hello ayush your age is 21\n"
     ]
    }
   ],
   "source": [
    "class person:\n",
    "    def __init__(self, name, age):\n",
    "        self.name = name\n",
    "        self.age = age\n",
    "\n",
    "p1 = person('ayush', 21)\n",
    "\n",
    "print('hello {0.name} your age is {0.age}'.format(p1))"
   ]
  },
  {
   "cell_type": "code",
   "execution_count": 31,
   "metadata": {},
   "outputs": [
    {
     "name": "stdout",
     "output_type": "stream",
     "text": [
      "the value is 001\n",
      "the value is 002\n",
      "the value is 003\n",
      "the value is 004\n",
      "the value is 005\n",
      "the value is 006\n",
      "the value is 007\n",
      "the value is 008\n",
      "the value is 009\n",
      "the value is 010\n"
     ]
    }
   ],
   "source": [
    "# we can format the padded data\n",
    "# placeholder as {value: size}\n",
    "for i in range(1,11):\n",
    "    print('the value is {:03}'.format(i)) #three size placeholder"
   ]
  },
  {
   "cell_type": "code",
   "execution_count": 34,
   "metadata": {},
   "outputs": [
    {
     "name": "stdout",
     "output_type": "stream",
     "text": [
      "3.146\n"
     ]
    }
   ],
   "source": [
    "pi = 3.14562456\n",
    "\n",
    "print('{:.3f}'.format(pi))"
   ]
  },
  {
   "cell_type": "code",
   "execution_count": 36,
   "metadata": {},
   "outputs": [
    {
     "name": "stdout",
     "output_type": "stream",
     "text": [
      "1Mb is 1,000,000 bytes.\n"
     ]
    }
   ],
   "source": [
    "print('1Mb is {:,} bytes.'.format(1000**2))"
   ]
  },
  {
   "cell_type": "code",
   "execution_count": 37,
   "metadata": {},
   "outputs": [
    {
     "name": "stdout",
     "output_type": "stream",
     "text": [
      "March 11, 2018.\n"
     ]
    }
   ],
   "source": [
    "# formatting dates\n",
    "\n",
    "import datetime \n",
    "\n",
    "my_date = datetime.datetime(2018, 3, 11, 12, 30, 45)\n",
    "\n",
    "#in the format: march 11, 2018\n",
    "sentence = '{:%B %d, %Y}.'.format(my_date) # for formatting of datatype refer to the documents\n",
    "\n",
    "print(sentence)"
   ]
  },
  {
   "cell_type": "code",
   "execution_count": 39,
   "metadata": {},
   "outputs": [
    {
     "name": "stdout",
     "output_type": "stream",
     "text": [
      "March 11, 2018 fell on Sunday and was 070th day of the year\n"
     ]
    }
   ],
   "source": [
    "sentence  = '{0:%B %d, %Y} fell on {0:%A} and was {0:%j}th day of the year'.format(my_date)\n",
    "print(sentence)"
   ]
  },
  {
   "cell_type": "code",
   "execution_count": null,
   "metadata": {},
   "outputs": [],
   "source": []
  }
 ],
 "metadata": {
  "kernelspec": {
   "display_name": "Python 3",
   "language": "python",
   "name": "python3"
  },
  "language_info": {
   "codemirror_mode": {
    "name": "ipython",
    "version": 3
   },
   "file_extension": ".py",
   "mimetype": "text/x-python",
   "name": "python",
   "nbconvert_exporter": "python",
   "pygments_lexer": "ipython3",
   "version": "3.5.2"
  }
 },
 "nbformat": 4,
 "nbformat_minor": 2
}
