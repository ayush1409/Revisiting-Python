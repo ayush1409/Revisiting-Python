{
 "cells": [
  {
   "cell_type": "code",
   "execution_count": 54,
   "metadata": {},
   "outputs": [],
   "source": [
    "class Employee:\n",
    "    \"\"\" documentation of class\"\"\" \n",
    "    \n",
    "    raise_amount = 1.04  # class variables\n",
    "    number_of_emps = 0\n",
    "    \n",
    "    def __init__(self, first, last, pay):\n",
    "        self.first = first\n",
    "        self.last = last\n",
    "        self.pay = pay\n",
    "        self.email = first + '.' + last + '@company.com'\n",
    "        \n",
    "        Employee.number_of_emps += 1  # accessing through class variable\n",
    "    \n",
    "    def print_name(self):\n",
    "        return '{} {}'.format(self.first, self.last)\n",
    "\n",
    "    def apply_raise(self):\n",
    "        self.pay = int(self.pay * self.raise_amount)\n",
    "    \n",
    "    # Regular methods : first argument is the class instance\n",
    "    \n",
    "    # class methods : first arguement is the class name (practical example : see datetime module)\n",
    "    # class methods are also known as alternative constructors\n",
    "    \n",
    "    # static methos : arguement only passed manually\n",
    "    \n",
    "    @classmethod\n",
    "    def from_string(cls, emp_str):     # cls : classname\n",
    "        first, last, pay = emp_str.split('-')\n",
    "        return cls(first, last, pay)   # new instance returned\n",
    "    \n",
    "    @classmethod\n",
    "    def set_raise_amt(cls, amount):\n",
    "        cls.raise_amount = amount\n",
    "\n",
    "    # use only the instance and classname both are not required inside the function\n",
    "    @staticmethod\n",
    "    def is_workday(day):\n",
    "        if day.weekday()==5 or day.weekday()==6:\n",
    "            return False\n",
    "        return True\n",
    "    \n",
    "    #Special(Magic Dunder) methods\n",
    "    def __repr__(self):\n",
    "        return \"Employee({},{},{})\".format(self.first, self.last, self.pay)\n",
    "    \n",
    "    def __str__(self):\n",
    "        return \"{} - {}\".format(self.print_name(), self.email)\n",
    "    \n",
    "    def __add__(self, other):\n",
    "        \"\"\" add pay of two employees\"\"\"\n",
    "        return self.pay + other.pay\n",
    "    \n",
    "    def __len__(self):\n",
    "        \"\"\" returns the length of fullname of employee\"\"\"\n",
    "        return len(self.fullname)"
   ]
  },
  {
   "cell_type": "code",
   "execution_count": 3,
   "metadata": {},
   "outputs": [
    {
     "name": "stdout",
     "output_type": "stream",
     "text": [
      "{'first': 'chris', 'last': 'evans', 'email': 'chris.evans@company.com', 'pay': 5000}\n",
      "{'first': 'tony', 'last': 'stark', 'email': 'tony.stark@company.com', 'pay': 6000}\n"
     ]
    }
   ],
   "source": [
    "emp1 = Employee('chris', 'evans', 5000)\n",
    "emp2 = Employee('tony', 'stark', 6000)\n",
    "\n",
    "print(emp1.__dict__)\n",
    "print(emp2.__dict__)\n"
   ]
  },
  {
   "cell_type": "code",
   "execution_count": 4,
   "metadata": {},
   "outputs": [
    {
     "name": "stdout",
     "output_type": "stream",
     "text": [
      "4\n"
     ]
    }
   ],
   "source": [
    "print(Employee.number_of_emps)"
   ]
  },
  {
   "cell_type": "code",
   "execution_count": 6,
   "metadata": {},
   "outputs": [
    {
     "name": "stdout",
     "output_type": "stream",
     "text": [
      "chris evans\n",
      "tony stark\n"
     ]
    }
   ],
   "source": [
    "print(emp1.print_name())\n",
    "print(emp2.print_name())"
   ]
  },
  {
   "cell_type": "code",
   "execution_count": 10,
   "metadata": {},
   "outputs": [
    {
     "name": "stdout",
     "output_type": "stream",
     "text": [
      "{'first': 'chris', 'last': 'evans', 'raise_amount': 1.05, 'email': 'chris.evans@company.com', 'pay': 5000}\n",
      "{'first': 'tony', 'last': 'stark', 'email': 'tony.stark@company.com', 'pay': 6000}\n",
      "{'__doc__': ' documentation of class', 'print_name': <function Employee.print_name at 0x7f4b24eee840>, 'number_of_emps': 4, '__weakref__': <attribute '__weakref__' of 'Employee' objects>, '__dict__': <attribute '__dict__' of 'Employee' objects>, 'raise_amount': 1.04, '__module__': '__main__', '__init__': <function Employee.__init__ at 0x7f4b24eee8c8>, 'apply_raise': <function Employee.apply_raise at 0x7f4b24eee7b8>}\n"
     ]
    }
   ],
   "source": [
    "emp1.raise_amount = 1.05   # overwriting the raise amount vairable\n",
    "\n",
    "print(emp1.__dict__)\n",
    "print(emp2.__dict__)\n",
    "print(Employee.__dict__)   "
   ]
  },
  {
   "cell_type": "code",
   "execution_count": 12,
   "metadata": {},
   "outputs": [],
   "source": [
    "emp3 = Employee.from_string('tom-criuse-7000')"
   ]
  },
  {
   "cell_type": "code",
   "execution_count": 14,
   "metadata": {},
   "outputs": [
    {
     "name": "stdout",
     "output_type": "stream",
     "text": [
      "tom criuse\n",
      "{'first': 'tom', 'last': 'criuse', 'email': 'tom.criuse@company.com', 'pay': '7000'}\n"
     ]
    }
   ],
   "source": [
    "print(emp3.print_name())\n",
    "print(emp3.__dict__)"
   ]
  },
  {
   "cell_type": "code",
   "execution_count": 15,
   "metadata": {},
   "outputs": [
    {
     "name": "stdout",
     "output_type": "stream",
     "text": [
      "1.05\n"
     ]
    }
   ],
   "source": [
    "Employee.set_raise_amt(1.05)  # class method\n",
    "print(Employee.raise_amount)"
   ]
  },
  {
   "cell_type": "code",
   "execution_count": 16,
   "metadata": {},
   "outputs": [
    {
     "name": "stdout",
     "output_type": "stream",
     "text": [
      "False\n"
     ]
    }
   ],
   "source": [
    "import datetime\n",
    "\n",
    "my_date = datetime.date(2018, 7, 1)\n",
    "\n",
    "print(Employee.is_workday(my_date))"
   ]
  },
  {
   "cell_type": "code",
   "execution_count": 19,
   "metadata": {},
   "outputs": [],
   "source": [
    "# Working on Inheritance\n",
    "\n",
    "class Developer(Employee):\n",
    "    \n",
    "    raise_amount = 1.10  # overwriting the class variable\n",
    "    \n",
    "    def __init__(self, first, last, pay, prog_lang):\n",
    "        super().__init__(first, last, pay)\n",
    "        self.prog_lang = prog_lang\n",
    "        "
   ]
  },
  {
   "cell_type": "code",
   "execution_count": 20,
   "metadata": {},
   "outputs": [
    {
     "name": "stdout",
     "output_type": "stream",
     "text": [
      "Help on class Developer in module __main__:\n",
      "\n",
      "class Developer(Employee)\n",
      " |  documentation of class\n",
      " |  \n",
      " |  Method resolution order:\n",
      " |      Developer\n",
      " |      Employee\n",
      " |      builtins.object\n",
      " |  \n",
      " |  Methods defined here:\n",
      " |  \n",
      " |  __init__(self, first, last, pay, prog_lang)\n",
      " |      Initialize self.  See help(type(self)) for accurate signature.\n",
      " |  \n",
      " |  ----------------------------------------------------------------------\n",
      " |  Data and other attributes defined here:\n",
      " |  \n",
      " |  raise_amount = 1.1\n",
      " |  \n",
      " |  ----------------------------------------------------------------------\n",
      " |  Methods inherited from Employee:\n",
      " |  \n",
      " |  apply_raise(self)\n",
      " |  \n",
      " |  print_name(self)\n",
      " |  \n",
      " |  ----------------------------------------------------------------------\n",
      " |  Class methods inherited from Employee:\n",
      " |  \n",
      " |  from_string(emp_str) from builtins.type\n",
      " |  \n",
      " |  set_raise_amt(amount) from builtins.type\n",
      " |  \n",
      " |  ----------------------------------------------------------------------\n",
      " |  Static methods inherited from Employee:\n",
      " |  \n",
      " |  is_workday(day)\n",
      " |      # use only the instance and classname both are not required inside the function\n",
      " |  \n",
      " |  ----------------------------------------------------------------------\n",
      " |  Data descriptors inherited from Employee:\n",
      " |  \n",
      " |  __dict__\n",
      " |      dictionary for instance variables (if defined)\n",
      " |  \n",
      " |  __weakref__\n",
      " |      list of weak references to the object (if defined)\n",
      " |  \n",
      " |  ----------------------------------------------------------------------\n",
      " |  Data and other attributes inherited from Employee:\n",
      " |  \n",
      " |  number_of_emps = 1\n",
      "\n",
      "None\n"
     ]
    }
   ],
   "source": [
    "print(help(Developer))"
   ]
  },
  {
   "cell_type": "code",
   "execution_count": 21,
   "metadata": {},
   "outputs": [],
   "source": [
    "dev_1 = Developer('will', 'smith', 6000, 'python')"
   ]
  },
  {
   "cell_type": "code",
   "execution_count": 23,
   "metadata": {},
   "outputs": [
    {
     "name": "stdout",
     "output_type": "stream",
     "text": [
      "will smith\n",
      "{'first': 'will', 'last': 'smith', 'prog_lang': 'python', 'email': 'will.smith@company.com', 'pay': 6000}\n"
     ]
    }
   ],
   "source": [
    "print(dev_1.print_name())\n",
    "print(dev_1.__dict__)"
   ]
  },
  {
   "cell_type": "code",
   "execution_count": 38,
   "metadata": {},
   "outputs": [],
   "source": [
    "class Manager(Employee):\n",
    "    \n",
    "    def __init__(self, first, last, pay, employees=None):\n",
    "        super().__init__(first, last, pay)\n",
    "        if employees is None:\n",
    "            self.employees = []\n",
    "        else:\n",
    "            self.employees = employees\n",
    "   \n",
    "    def add_employee(self, emp):\n",
    "        if emp not in self.employees:\n",
    "            self.employees.append(emp)\n",
    "\n",
    "    def remove_employee(self, emp):\n",
    "        if emp in self.employees:\n",
    "            self.employees.remove(emp)\n",
    "    \n",
    "    def print_employees(self):\n",
    "        for emp in self.employees:\n",
    "            print('-->' + emp.print_name())"
   ]
  },
  {
   "cell_type": "code",
   "execution_count": 32,
   "metadata": {},
   "outputs": [
    {
     "name": "stdout",
     "output_type": "stream",
     "text": [
      "Help on class Manager in module __main__:\n",
      "\n",
      "class Manager(Employee)\n",
      " |  documentation of class\n",
      " |  \n",
      " |  Method resolution order:\n",
      " |      Manager\n",
      " |      Employee\n",
      " |      builtins.object\n",
      " |  \n",
      " |  Methods defined here:\n",
      " |  \n",
      " |  __init__(self, first, last, pay, employees=None)\n",
      " |      Initialize self.  See help(type(self)) for accurate signature.\n",
      " |  \n",
      " |  add_employee(self, emp)\n",
      " |  \n",
      " |  remove_employee(self, emp)\n",
      " |  \n",
      " |  ----------------------------------------------------------------------\n",
      " |  Methods inherited from Employee:\n",
      " |  \n",
      " |  apply_raise(self)\n",
      " |  \n",
      " |  print_name(self)\n",
      " |  \n",
      " |  ----------------------------------------------------------------------\n",
      " |  Class methods inherited from Employee:\n",
      " |  \n",
      " |  from_string(emp_str) from builtins.type\n",
      " |  \n",
      " |  set_raise_amt(amount) from builtins.type\n",
      " |  \n",
      " |  ----------------------------------------------------------------------\n",
      " |  Static methods inherited from Employee:\n",
      " |  \n",
      " |  is_workday(day)\n",
      " |      # use only the instance and classname both are not required inside the function\n",
      " |  \n",
      " |  ----------------------------------------------------------------------\n",
      " |  Data descriptors inherited from Employee:\n",
      " |  \n",
      " |  __dict__\n",
      " |      dictionary for instance variables (if defined)\n",
      " |  \n",
      " |  __weakref__\n",
      " |      list of weak references to the object (if defined)\n",
      " |  \n",
      " |  ----------------------------------------------------------------------\n",
      " |  Data and other attributes inherited from Employee:\n",
      " |  \n",
      " |  number_of_emps = 4\n",
      " |  \n",
      " |  raise_amount = 1.05\n",
      "\n",
      "None\n"
     ]
    }
   ],
   "source": [
    "print(help(Manager))"
   ]
  },
  {
   "cell_type": "code",
   "execution_count": 28,
   "metadata": {},
   "outputs": [],
   "source": [
    "dev2 = Developer('steve', 'roger', 8000, 'C++')"
   ]
  },
  {
   "cell_type": "code",
   "execution_count": 39,
   "metadata": {},
   "outputs": [],
   "source": [
    "mang_1 = Manager('bruce','banner', 10000, [dev_1, dev2])"
   ]
  },
  {
   "cell_type": "code",
   "execution_count": 40,
   "metadata": {},
   "outputs": [
    {
     "data": {
      "text/plain": [
       "'bruce banner'"
      ]
     },
     "execution_count": 40,
     "metadata": {},
     "output_type": "execute_result"
    }
   ],
   "source": [
    "mang_1.print_name()"
   ]
  },
  {
   "cell_type": "code",
   "execution_count": 41,
   "metadata": {},
   "outputs": [
    {
     "name": "stdout",
     "output_type": "stream",
     "text": [
      "-->will smith\n",
      "-->steve roger\n"
     ]
    }
   ],
   "source": [
    "mang_1.print_employees()"
   ]
  },
  {
   "cell_type": "code",
   "execution_count": 42,
   "metadata": {},
   "outputs": [],
   "source": [
    "dev_3 = Developer('Robert D', 'Jr', 100000, 'Java')"
   ]
  },
  {
   "cell_type": "code",
   "execution_count": 43,
   "metadata": {},
   "outputs": [],
   "source": [
    "mang_1.add_employee(dev_3)"
   ]
  },
  {
   "cell_type": "code",
   "execution_count": 44,
   "metadata": {},
   "outputs": [
    {
     "name": "stdout",
     "output_type": "stream",
     "text": [
      "-->will smith\n",
      "-->steve roger\n",
      "-->Robert D Jr\n"
     ]
    }
   ],
   "source": [
    "mang_1.print_employees()"
   ]
  },
  {
   "cell_type": "code",
   "execution_count": 45,
   "metadata": {},
   "outputs": [],
   "source": [
    "mang_1.remove_employee(dev_3)"
   ]
  },
  {
   "cell_type": "code",
   "execution_count": 46,
   "metadata": {},
   "outputs": [
    {
     "name": "stdout",
     "output_type": "stream",
     "text": [
      "-->will smith\n",
      "-->steve roger\n"
     ]
    }
   ],
   "source": [
    "mang_1.print_employees()"
   ]
  },
  {
   "cell_type": "code",
   "execution_count": 48,
   "metadata": {},
   "outputs": [
    {
     "name": "stdout",
     "output_type": "stream",
     "text": [
      "3\n",
      "3\n"
     ]
    }
   ],
   "source": [
    "# both statements are same\n",
    "print(1+2)\n",
    "print(int.__add__(1,2))"
   ]
  },
  {
   "cell_type": "code",
   "execution_count": 50,
   "metadata": {},
   "outputs": [
    {
     "name": "stdout",
     "output_type": "stream",
     "text": [
      "ab\n",
      "ab\n"
     ]
    }
   ],
   "source": [
    "print('a'+'b')\n",
    "print(str.__add__('a', 'b'))"
   ]
  },
  {
   "cell_type": "code",
   "execution_count": 56,
   "metadata": {},
   "outputs": [],
   "source": [
    "emp_3 = Employee('Robert D', 'Jr', 10000)\n",
    "emp_4 = Employee('Robert D', ' Jr Jr', 11000)"
   ]
  },
  {
   "cell_type": "code",
   "execution_count": 57,
   "metadata": {},
   "outputs": [
    {
     "name": "stdout",
     "output_type": "stream",
     "text": [
      "Robert D Jr - Robert D.Jr@company.com\n"
     ]
    }
   ],
   "source": [
    "print(emp_3)"
   ]
  },
  {
   "cell_type": "code",
   "execution_count": 58,
   "metadata": {},
   "outputs": [
    {
     "name": "stdout",
     "output_type": "stream",
     "text": [
      "Employee(Robert D,Jr,10000)\n"
     ]
    }
   ],
   "source": [
    "print(repr(emp_3))"
   ]
  },
  {
   "cell_type": "code",
   "execution_count": 59,
   "metadata": {},
   "outputs": [
    {
     "name": "stdout",
     "output_type": "stream",
     "text": [
      "21000\n"
     ]
    }
   ],
   "source": [
    "#operator overloading\n",
    "\n",
    "print(emp_3 + emp_4)   # added pay"
   ]
  },
  {
   "cell_type": "code",
   "execution_count": 60,
   "metadata": {},
   "outputs": [
    {
     "name": "stdout",
     "output_type": "stream",
     "text": [
      "4\n",
      "4\n"
     ]
    }
   ],
   "source": [
    "print(len('abcd'))\n",
    "print(str.__len__('abcd'))"
   ]
  },
  {
   "cell_type": "code",
   "execution_count": null,
   "metadata": {},
   "outputs": [],
   "source": []
  }
 ],
 "metadata": {
  "kernelspec": {
   "display_name": "Python 3",
   "language": "python",
   "name": "python3"
  },
  "language_info": {
   "codemirror_mode": {
    "name": "ipython",
    "version": 3
   },
   "file_extension": ".py",
   "mimetype": "text/x-python",
   "name": "python",
   "nbconvert_exporter": "python",
   "pygments_lexer": "ipython3",
   "version": "3.5.2"
  }
 },
 "nbformat": 4,
 "nbformat_minor": 2
}
